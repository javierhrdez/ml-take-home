{
 "cells": [
  {
   "cell_type": "markdown",
   "metadata": {},
   "source": [
    "## DETECCIÓN DE OUTLIERS"
   ]
  },
  {
   "cell_type": "code",
   "execution_count": 3,
   "metadata": {},
   "outputs": [],
   "source": [
    "import pandas as pd\n",
    "import numpy as np\n",
    "from scipy import stats\n",
    "from sklearn.covariance import EllipticEnvelope\n",
    "import matplotlib.pyplot as plt"
   ]
  },
  {
   "cell_type": "code",
   "execution_count": 4,
   "metadata": {},
   "outputs": [
    {
     "name": "stdout",
     "output_type": "stream",
     "text": [
      "            a         b\n",
      "0    0.149014 -0.041479\n",
      "1    0.194307  0.456909\n",
      "2   -0.070246 -0.070241\n",
      "3    0.473764  0.230230\n",
      "4   -0.140842  0.162768\n",
      "..        ...       ...\n",
      "195 -5.114441  0.646251\n",
      "196  5.631630  0.277174\n",
      "197  1.552784  2.348984\n",
      "198 -0.545507  1.530697\n",
      "199  1.011772  4.813896\n",
      "\n",
      "[200 rows x 2 columns]\n"
     ]
    }
   ],
   "source": [
    "# Carga de datos.\n",
    "df = pd.read_csv(\"outliers.csv\")\n",
    "print(df)"
   ]
  },
  {
   "cell_type": "markdown",
   "metadata": {},
   "source": [
    "### 1) EllipticEnvelope()"
   ]
  },
  {
   "cell_type": "code",
   "execution_count": 5,
   "metadata": {},
   "outputs": [
    {
     "name": "stdout",
     "output_type": "stream",
     "text": [
      "[ 1  1  1  1  1  1  1  1  1  1  1  1  1  1  1  1  1  1  1  1  1  1  1  1\n",
      "  1  1  1  1  1  1  1  1  1  1  1  1  1  1  1  1  1  1  1  1  1  1  1  1\n",
      "  1  1  1  1  1  1  1  1  1  1  1  1  1  1  1  1  1  1  1  1  1  1  1  1\n",
      "  1  1  1  1  1  1  1  1  1  1  1  1  1  1  1  1  1  1  1  1  1  1  1  1\n",
      "  1  1  1  1  1  1  1  1  1  1  1  1  1  1  1  1  1  1  1  1  1  1  1  1\n",
      "  1  1  1  1  1  1  1  1  1  1  1  1  1  1  1  1  1  1  1  1  1  1  1  1\n",
      "  1  1  1  1  1  1 -1 -1 -1 -1 -1 -1 -1 -1 -1 -1 -1 -1 -1 -1 -1 -1 -1 -1\n",
      " -1 -1 -1 -1 -1 -1 -1 -1 -1 -1 -1 -1 -1 -1 -1 -1 -1 -1 -1 -1 -1 -1 -1 -1\n",
      " -1 -1 -1 -1 -1 -1 -1 -1]\n",
      "\n",
      "Outliers en la posición: \n",
      " [150 151 152 153 154 155 156 157 158 159 160 161 162 163 164 165 166 167\n",
      " 168 169 170 171 172 173 174 175 176 177 178 179 180 181 182 183 184 185\n",
      " 186 187 188 189 190 191 192 193 194 195 196 197 198 199]\n",
      "\n",
      "Número de outliers: \n",
      " 50\n"
     ]
    }
   ],
   "source": [
    "# Definimos el algoritmo EllipticEnvelope\n",
    "algorithm = EllipticEnvelope(support_fraction=None, contamination=0.25, random_state=42)\n",
    "\n",
    "# Entrenamos el algoritmo\n",
    "outlier_method = algorithm.fit(df)\n",
    "\n",
    "# Aplicamos el método de detección de outliers entrenado sobre nuesto dataset\n",
    "df_outliers = outlier_method.predict(df)\n",
    "print(df_outliers)\n",
    "\n",
    "# Determinar la posición de los outliers\n",
    "pos_outliers = np.where(df_outliers==-1)[0]\n",
    "print('\\nOutliers en la posición: \\n', pos_outliers)\n",
    "\n",
    "# Determinar el número de outliers\n",
    "print('\\nNúmero de outliers: \\n', len(pos_outliers))"
   ]
  },
  {
   "cell_type": "code",
   "execution_count": 6,
   "metadata": {},
   "outputs": [],
   "source": [
    "# Definimos una función que, dado un determinado \"df\" y un \"algorithm\", devuelva la matriz y la posición de outliers\n",
    "def find_outliers(df, algorithm):\n",
    "    # Entrenamos el algoritmo\n",
    "    outlier_method = algorithm.fit(df)\n",
    "    \n",
    "    # Aplicamos el método de detección de outliers entrenado sobre nuesto dataset\n",
    "    df_outliers = outlier_method.predict(df)\n",
    "\n",
    "    # Determinar la posición de los outliers\n",
    "    pos_outliers = np.where(df_outliers==-1)[0]\n",
    "    \n",
    "    return df_outliers, pos_outliers"
   ]
  },
  {
   "cell_type": "markdown",
   "metadata": {},
   "source": [
    "### 2) Otros métodos similares"
   ]
  },
  {
   "cell_type": "code",
   "execution_count": 7,
   "metadata": {},
   "outputs": [],
   "source": [
    "from sklearn.ensemble import IsolationForest\n",
    "from sklearn.svm import OneClassSVM\n",
    "from sklearn.neighbors import LocalOutlierFactor\n",
    "\n",
    "IF = IsolationForest(n_estimators=100, contamination='auto', random_state=42)\n",
    "OC_SVM =  OneClassSVM(kernel='poly', degree=1, gamma='auto')\n",
    "LOF = LocalOutlierFactor(n_neighbors=20, algorithm='auto', metric='euclidean', contamination='auto', novelty=True)\n",
    "\n",
    "df_outliers, pos_outliers = find_outliers(df, IF)"
   ]
  },
  {
   "cell_type": "code",
   "execution_count": 8,
   "metadata": {},
   "outputs": [
    {
     "name": "stdout",
     "output_type": "stream",
     "text": [
      "            a         b\n",
      "0    0.149014 -0.041479\n",
      "1    0.194307  0.456909\n",
      "2   -0.070246 -0.070241\n",
      "3    0.473764  0.230230\n",
      "4   -0.140842  0.162768\n",
      "..        ...       ...\n",
      "147  0.107105 -0.207873\n",
      "148  0.269880  0.092190\n",
      "149  0.243859  0.188889\n",
      "164  1.582047 -0.618654\n",
      "198 -0.545507  1.530697\n",
      "\n",
      "[152 rows x 2 columns]\n"
     ]
    }
   ],
   "source": [
    "# Eliminamos los outliers\n",
    "new_df = df[df_outliers==1]\n",
    "print(new_df)"
   ]
  },
  {
   "cell_type": "markdown",
   "metadata": {},
   "source": [
    "### 3) Box plot"
   ]
  },
  {
   "cell_type": "code",
   "execution_count": 9,
   "metadata": {},
   "outputs": [
    {
     "name": "stdout",
     "output_type": "stream",
     "text": [
      "limite inferior:  -1.0853060827395105\n",
      "limite superior:  1.0119554520872196\n",
      "Posición de outliers:  [150 153 154 157 159 160 162 165 168 169 171 172 174 175 177 178 181 184\n",
      " 185 186 187 190 191 192 193 195 151 152 155 156 161 163 164 166 167 173\n",
      " 176 179 180 182 188 189 196 197]\n",
      "Número de outliers:  44\n"
     ]
    },
    {
     "data": {
      "image/png": "[encoded data removed]",
      "text/plain": [
       "<Figure size 432x288 with 1 Axes>"
      ]
     },
     "metadata": {
      "needs_background": "light"
     },
     "output_type": "display_data"
    }
   ],
   "source": [
    "# Seleccionamos el atributo que vamos a medir\n",
    "a = df['a']\n",
    "\n",
    "# Seleccionamos los umbrales a partir de los cuales vamos a considerar outliers\n",
    "Q1 = stats.scoreatpercentile(a, 25)\n",
    "Q3 = stats.scoreatpercentile(a, 75)\n",
    "RIC = Q3 - Q1\n",
    "li = Q1 - 1.5*RIC #xmin\n",
    "ls = Q3 + 1.5*RIC #xmax\n",
    "\n",
    "# Observamos los límites inferior y superior\n",
    "print('limite inferior: ', li)\n",
    "print('limite superior: ', ls)\n",
    "\n",
    "# Buscamos la posición de los outliers\n",
    "pos_i = np.where(a<li)[0]\n",
    "pos_s = np.where(a>ls)[0]\n",
    "pos_outliers = np.concatenate((pos_i, pos_s))\n",
    "print('Posición de outliers: ', pos_outliers)\n",
    "print('Número de outliers: ', len(pos_outliers))\n",
    "\n",
    "# Dibujamos el diagrama de caja y bigotes\n",
    "prop = plt.boxplot(a)\n",
    "plt.boxplot(a)\n",
    "plt.grid()\n",
    "plt.show()"
   ]
  },
  {
   "cell_type": "code",
   "execution_count": 10,
   "metadata": {},
   "outputs": [],
   "source": [
    "# Definir una función que, dada una columna de un dataframe, devuelva la posición de los outliers según el método box plot\n",
    "\n",
    "def find_limits_BP(variable):\n",
    "    # Seleccionamos los umbrales a partir de los cuales vamos a considerar outliers\n",
    "    Q1 = stats.scoreatpercentile(variable, 25)\n",
    "    Q3 = stats.scoreatpercentile(variable, 75)\n",
    "    RIC = Q3 - Q1\n",
    "    li = Q1 - 1.5*RIC #xmin\n",
    "    ls = Q3 + 1.5*RIC #xmax\n",
    "\n",
    "    # Observamos los límites inferior y superior\n",
    "    print('limite inferior: ', li)\n",
    "    print('limite superior: ', ls)\n",
    "\n",
    "    # Buscamos la posición de los outliers\n",
    "    pos_i = np.where(variable<li)[0]\n",
    "    pos_s = np.where(variable>ls)[0]\n",
    "    pos_outliers = np.concatenate((pos_i, pos_s))\n",
    "    print('Posición de outliers: ', pos_outliers)\n",
    "    print('Número de outliers: ', len(pos_outliers))\n",
    "\n",
    "    # Dibujamos el diagrama de caja y bigotes\n",
    "    prop = plt.boxplot(variable)\n",
    "    plt.boxplot(variable)\n",
    "    plt.grid()\n",
    "    plt.show()\n",
    "    \n",
    "    return pos_outliers"
   ]
  },
  {
   "cell_type": "code",
   "execution_count": 11,
   "metadata": {},
   "outputs": [
    {
     "name": "stdout",
     "output_type": "stream",
     "text": [
      "limite inferior:  -1.0853060827395105\n",
      "limite superior:  1.0119554520872196\n",
      "Posición de outliers:  [150 153 154 157 159 160 162 165 168 169 171 172 174 175 177 178 181 184\n",
      " 185 186 187 190 191 192 193 195 151 152 155 156 161 163 164 166 167 173\n",
      " 176 179 180 182 188 189 196 197]\n",
      "Número de outliers:  44\n"
     ]
    },
    {
     "data": {
      "image/png": "[encoded data removed]",
      "text/plain": [
       "<Figure size 432x288 with 1 Axes>"
      ]
     },
     "metadata": {
      "needs_background": "light"
     },
     "output_type": "display_data"
    },
    {
     "name": "stdout",
     "output_type": "stream",
     "text": [
      "limite inferior:  -0.9868496601410702\n",
      "limite superior:  1.0772774705919084\n",
      "Posición de outliers:  [150 152 160 161 165 171 173 176 178 181 186 189 104 151 153 154 156 157\n",
      " 158 159 162 166 167 170 172 174 175 177 179 180 183 187 190 191 192 193\n",
      " 194 197 198 199]\n",
      "Número de outliers:  40\n"
     ]
    },
    {
     "data": {
      "image/png": "[encoded data removed]",
      "text/plain": [
       "<Figure size 432x288 with 1 Axes>"
      ]
     },
     "metadata": {
      "needs_background": "light"
     },
     "output_type": "display_data"
    }
   ],
   "source": [
    "# Creamos un bucle for que estime los valores outliers de cada atributo\n",
    "headers = df.columns # nombre de los atributos del CSV\n",
    "pos_outliers = []\n",
    "for i in range(len(headers)):\n",
    "    variable = df[headers[i]] # Atributo i\n",
    "    pos_out = find_limits_BP(variable) # Buscamos los outliers en esa variable con la función que hemos creado\n",
    "    pos_out = np.expand_dims(pos_out, axis=1) # Llamamos a la función que hemos creado\n",
    "    pos_outliers.append(pos_out) # Lo añadimos en una lista\n",
    "\n",
    "# Concatenamos todas las posiciones de outliers\n",
    "conc_pos = np.vstack(pos_outliers)"
   ]
  },
  {
   "cell_type": "code",
   "execution_count": 12,
   "metadata": {},
   "outputs": [
    {
     "name": "stdout",
     "output_type": "stream",
     "text": [
      "Posiciones de outliers:  [104 150 151 152 153 154 155 156 157 158 159 160 161 162 163 164 165 166\n",
      " 167 168 169 170 171 172 173 174 175 176 177 178 179 180 181 182 183 184\n",
      " 185 186 187 188 189 190 191 192 193 194 195 196 197 198 199]\n",
      "Numero de outliers:  51\n"
     ]
    }
   ],
   "source": [
    "# Ejemplo 1: Eliminamos las posiciones repetidas\n",
    "pos_out = np.unique(conc_pos)\n",
    "print('Posiciones de outliers: ', pos_out)\n",
    "print('Numero de outliers: ', len(pos_out))"
   ]
  },
  {
   "cell_type": "code",
   "execution_count": 13,
   "metadata": {},
   "outputs": [
    {
     "name": "stdout",
     "output_type": "stream",
     "text": [
      "Posiciones de outliers:  [150 151 152 153 154 156 157 159 160 161 162 165 166 167 171 172 173 174\n",
      " 175 176 177 178 179 180 181 186 187 189 190 191 192 193 197]\n",
      "Numero de outliers:  33\n"
     ]
    }
   ],
   "source": [
    "# Ejemplo 2: Nos quedamos únicamente con las posiciones repetidas\n",
    "values, freqs = np.unique(conc_pos, return_counts=True)\n",
    "pos_out_2 = values[freqs==2]\n",
    "print('Posiciones de outliers: ', pos_out_2)\n",
    "print('Numero de outliers: ', len(pos_out_2))"
   ]
  },
  {
   "cell_type": "code",
   "execution_count": null,
   "metadata": {},
   "outputs": [],
   "source": []
  },
  {
   "cell_type": "code",
   "execution_count": null,
   "metadata": {},
   "outputs": [],
   "source": []
  }
 ],
 "metadata": {
  "kernelspec": {
   "display_name": "Python 3 (ipykernel)",
   "language": "python",
   "name": "python3"
  },
  "language_info": {
   "codemirror_mode": {
    "name": "ipython",
    "version": 3
   },
   "file_extension": ".py",
   "mimetype": "text/x-python",
   "name": "python",
   "nbconvert_exporter": "python",
   "pygments_lexer": "ipython3",
   "version": "3.8.2"
  }
 },
 "nbformat": 4,
 "nbformat_minor": 2
}
